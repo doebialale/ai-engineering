{
 "cells": [
  {
   "cell_type": "markdown",
   "metadata": {},
   "source": [
    "# Lecture 7: Working with Claude API and Reasoning Models\n",
    "\n",
    "### Overview\n",
    "\n",
    "Let's finally dive into the nitty-gritty and see how we can code with Claude.\n",
    "\n",
    "This notebook explores the Anthropic Claude API, focusing on how to leverage both standard chat capabilities and advanced reasoning features. We'll examine how to structure effective system prompts and create applications that utilize the model's extended thinking capabilities.\n",
    "\n",
    "### Objectives\n",
    "- Set up and configure the Anthropic Claude API\n",
    "- Create tailored system prompts for specific use cases\n",
    "- Compare standard responses with reasoning-enhanced outputs\n",
    "- Analyze the \"thinking\" process in reasoning models\n",
    "\n",
    "### Challenge\n",
    "Take the code we have used in this lecture and see if you can beat my overall score. Let's turn this into a friendly competition for all those tackling this project and compare the results you get :D\n",
    "\n",
    "Place your submission in the community-contributions folder by creating a folder with your name in it.\n",
    "\n",
    "### Version History\n",
    "\n",
    "Below you will find any updates I have made to the notebooks.\n",
    "\n",
    "**Please note** that some of the code may be different to what you have seen in the lectures as there may be bug fixes or improvements but the general objective of the notebook will remain the same.\n",
    "\n",
    "| Date | Version | Description of Changes |\n",
    "|------|---------|------------------------|\n",
    "| 2025-03-01 | v1.0 | Initial version |\n",
    "\n"
   ]
  },
  {
   "cell_type": "markdown",
   "metadata": {},
   "source": [
    "#### Step 1: Import libraries and load the environment variables"
   ]
  },
  {
   "cell_type": "code",
   "execution_count": 1,
   "metadata": {},
   "outputs": [],
   "source": [
    "import os\n",
    "import anthropic\n",
    "from dotenv import load_dotenv\n",
    "from IPython.display import Markdown, display\n",
    "\n",
    "load_dotenv()\n",
    "\n",
    "ANTHROPIC_API_KEY = os.getenv(\"ANTHROPIC_API_KEY\")\n",
    "\n",
    "if ANTHROPIC_API_KEY is None:\n",
    "    raise Exception(\"API key is missing\")"
   ]
  },
  {
   "cell_type": "markdown",
   "metadata": {},
   "source": [
    "#### Step 2: Call the API"
   ]
  },
  {
   "cell_type": "code",
   "execution_count": 4,
   "metadata": {},
   "outputs": [
    {
     "name": "stdout",
     "output_type": "stream",
     "text": [
      "# Salt of the Sea\n",
      "\n",
      "Ancient tears of earth,\n",
      "Minerals dissolve and drift—\n",
      "Time's endless embrace.\n",
      "\n",
      "Rivers carry stone\n",
      "To the great blue expanse where\n",
      "Centuries collect.\n",
      "\n",
      "What evaporates\n",
      "Leaves crystals behind, like thoughts\n",
      "Too heavy to lift.\n"
     ]
    }
   ],
   "source": [
    "client = anthropic.Anthropic()\n",
    "\n",
    "message = client.messages.create(\n",
    "    model=\"claude-3-7-sonnet-20250219\",\n",
    "    max_tokens=1000,\n",
    "    temperature=1,\n",
    "    system=\"You are a world-class poet. Respond only with short poems.\",\n",
    "    messages=[\n",
    "        {\n",
    "            \"role\": \"user\",\n",
    "            \"content\": [\n",
    "                {\n",
    "                    \"type\": \"text\",\n",
    "                    \"text\": \"Why is the ocean salty?\"\n",
    "                }\n",
    "            ]\n",
    "        }\n",
    "    ]\n",
    ")\n",
    "print(message.content[0].text)"
   ]
  },
  {
   "cell_type": "markdown",
   "metadata": {},
   "source": [
    "#### Step 3: Customize the Prompt\n",
    "\n",
    "Customer service representative"
   ]
  },
  {
   "cell_type": "code",
   "execution_count": 5,
   "metadata": {},
   "outputs": [],
   "source": [
    "complaint = \"You have over charged me for this product. I demand a refund.\""
   ]
  },
  {
   "cell_type": "code",
   "execution_count": 6,
   "metadata": {},
   "outputs": [
    {
     "data": {
      "text/markdown": [
       "# Subject: Regarding Your Refund Request - We're Here to Help\n",
       "\n",
       "Dear Valued Customer,\n",
       "\n",
       "Thank you for bringing this overcharging issue to our attention. I sincerely apologize for the inconvenience this has caused you.\n",
       "\n",
       "I've reviewed your account and confirm that an incorrect amount was charged for your recent purchase. We take billing accuracy very seriously, and I understand your frustration.\n",
       "\n",
       "We will process a full refund for the overcharged amount within 3-5 business days. You'll receive an email confirmation once the refund has been issued to your original payment method.\n",
       "\n",
       "To prevent similar issues in the future, I've also notified our billing department about this error.\n",
       "\n",
       "Please feel free to contact me directly at support@company.com if you don't receive your refund by [date] or if you have any other questions.\n",
       "\n",
       "Sincerely,\n",
       "[Your Name]\n",
       "Customer Service Representative"
      ],
      "text/plain": [
       "<IPython.core.display.Markdown object>"
      ]
     },
     "metadata": {},
     "output_type": "display_data"
    }
   ],
   "source": [
    "system_message = \"You are an expert customer service representative. Respond thoughtfully and informatively.\"\n",
    "\n",
    "prompt = f\"\"\"\n",
    "Write a brief professional email response to an unhappy customer with the following issue:\n",
    "\n",
    "{complaint}\n",
    "\n",
    "Requirements:\n",
    "- Keep under 150 words\n",
    "- Maintain a professional but empathetic tone\n",
    "- Acknowledge the issue clearly\n",
    "- Offer a specific solution\n",
    "- Include a follow-up action\n",
    "\"\"\"\n",
    "\n",
    "message = client.messages.create(\n",
    "    model=\"claude-3-7-sonnet-20250219\",\n",
    "    max_tokens=1000,\n",
    "    temperature=0.7,\n",
    "    system=system_message,\n",
    "    messages=[\n",
    "        {\n",
    "            \"role\": \"user\",\n",
    "            \"content\": [\n",
    "                {\n",
    "                    \"type\": \"text\",\n",
    "                    \"text\": prompt\n",
    "                }\n",
    "            ]\n",
    "        }\n",
    "    ]\n",
    ")\n",
    "\n",
    "chat_response = message.content[0].text\n",
    "display(Markdown(chat_response))"
   ]
  },
  {
   "cell_type": "markdown",
   "metadata": {},
   "source": [
    "#### Step 4: Rate the response using a reasoning model"
   ]
  },
  {
   "cell_type": "code",
   "execution_count": 18,
   "metadata": {},
   "outputs": [
    {
     "name": "stdout",
     "output_type": "stream",
     "text": [
      "[ThinkingBlock(signature='ErUBCkYIARgCIkCAwhNs1FAMCR29GsnAv1NGZWKpkXzJ2BQjex4V6Gnwo0KF4dUHlRWHLOGFLDaLCGlgk9HI5wNCKmDnBiYXelV+Egw7FB3aF4DL5PPGFIMaDLSTc8OKO4++cbh+0iIwqfar/l9/8izFxHxi9OJosVB8Wc2M9Qg2YzlJ4IImVAz5BhqMN+gDJFkd0oO8B3BjKh17r0ILPW1ZH2i41U94Nr9VV8XKgaKB0GbniE1vAA==', thinking='Let me evaluate this customer service email response based on the criteria provided. I\\'ll assess each category carefully.\\n\\n1. Professionalism (1-10):\\n- The email has a clear subject line and proper greeting\\n- Formal and respectful language throughout\\n- Proper sign-off with title\\n- No grammatical errors or casual language\\n- Maintains professional tone without being defensive\\nI\\'d rate this a 9/10. It\\'s highly professional with proper structure and tone, though providing a specific name rather than \"[Your Name]\" would make it perfect.\\n\\n2. Empathy (1-10):\\n- Opens with an acknowledgment of the issue\\n- Includes a sincere apology\\n- Recognizes the customer\\'s frustration\\n- Shows understanding of the inconvenience caused\\n- Takes responsibility for the error\\nI\\'d rate this an 8/10. It shows good empathy by acknowledging the issue and the customer\\'s frustration, but could perhaps be slightly more personalized to the specific situation.\\n\\n3. Problem Resolution (1-10):\\n- Confirms the issue has been verified\\n- Provides a clear timeline for refund (3-5 business days)\\n- Explains what will happen next (email confirmation)\\n- Mentions preventative measures taken (notifying billing department)\\n- Offers follow-up option if refund isn\\'t received\\nI\\'d rate this a 9/10. The resolution is clear and comprehensive with a specific timeline and follow-up actions.\\n\\n4. Clarity (1-10):\\n- Simple, straightforward language\\n- Specific about the refund process\\n- Clear timeline provided\\n- Contact information included\\n- Well-structured with logical flow\\nI\\'d rate this a 9/10. The message is very clear and well-organized, making it easy for the customer to understand the resolution.\\n\\n5. Brand Representation (1-10):\\n- Takes responsibility for the error\\n- Shows commitment to accuracy\\n- Demonstrates responsiveness to customer concerns\\n- Provides proactive solution\\n- Shows willingness to continue support\\nI\\'d rate this an 8/10. The response represents the brand well as responsive and responsible, though could perhaps include a brief statement about the company\\'s commitment to customer satisfaction.\\n\\nTotal score calculation:\\n- Professionalism: 9/10 = 18/20 (weighted)\\n- Empathy: 8/10 = 16/20 (weighted)\\n- Problem Resolution: 9/10 = 18/20 (weighted)\\n- Clarity: 9/10 = 18/20 (weighted)\\n- Brand Representation: 8/10 = 16/20 (weighted)\\n\\nTotal: 86/100', type='thinking'), TextBlock(citations=None, text=\"# Email Response Evaluation\\n\\n## Analysis by Category\\n\\n1. Professionalism (1-10): 9 - Uses formal language, proper structure, and maintains a respectful tone throughout without being defensive.\\n\\n2. Empathy (1-10): 8 - Acknowledges the issue promptly, offers a sincere apology, and validates the customer's frustration.\\n\\n3. Problem Resolution (1-10): 9 - Clearly explains the resolution process with specific timeline, confirms verification, and provides follow-up options.\\n\\n4. Clarity (1-10): 9 - Uses straightforward language, provides specific details about the refund process, and organizes information logically.\\n\\n5. Brand Representation (1-10): 8 - Demonstrates accountability, shows commitment to accuracy, and offers continued support.\\n\\n## TOTAL SCORE: 86/100\\n\\nThis is an excellent response that addresses the customer's concern directly while maintaining professionalism. The email acknowledges the error, provides a clear timeframe for resolution, and offers a specific contact method for follow-up. Minor improvements could include personalizing the response slightly more and perhaps offering a small goodwill gesture for the inconvenience caused.\", type='text')]\n"
     ]
    }
   ],
   "source": [
    "system_message = \"You are an expert customer service representative. Evaluate the email response to be sent to a customer complaint.\"\n",
    "\n",
    "reasoning_prompt = f\"\"\"\n",
    "A customer has made a complaint.\n",
    "\n",
    "{complaint}\n",
    "\n",
    "Evaluate this customer service email response.\n",
    "\n",
    "{chat_response}\n",
    "\n",
    "Rate each category with ONE LINE explanation:\n",
    "\n",
    "1. Professionalism (1-10): [Score] - [One-line explanation]\n",
    "2. Empathy (1-10): [Score] - [One-line explanation]\n",
    "3. Problem Resolution (1-10): [Score] - [One-line explanation]\n",
    "4. Clarity (1-10): [Score] - [One-line explanation]\n",
    "5. Brand Representation (1-10): [Score] - [One-line explanation]\n",
    "\n",
    "TOTAL SCORE: [X/100]\n",
    "\"\"\"\n",
    "\n",
    "message = client.messages.create(\n",
    "    model=\"claude-3-7-sonnet-20250219\",\n",
    "    max_tokens=5000,\n",
    "    thinking={\n",
    "        \"type\": \"enabled\",\n",
    "        \"budget_tokens\": 3000\n",
    "    },\n",
    "    temperature=1,\n",
    "    system=system_message,\n",
    "    messages=[\n",
    "        {\n",
    "            \"role\": \"user\",\n",
    "            \"content\": [\n",
    "                {\n",
    "                    \"type\": \"text\",\n",
    "                    \"text\": reasoning_prompt\n",
    "                }\n",
    "            ]\n",
    "        }\n",
    "    ]\n",
    ")\n",
    "reasoning_response = message.content\n",
    "print(reasoning_response)"
   ]
  },
  {
   "cell_type": "code",
   "execution_count": 19,
   "metadata": {},
   "outputs": [
    {
     "data": {
      "text/markdown": [
       "# Email Response Evaluation\n",
       "\n",
       "## Analysis by Category\n",
       "\n",
       "1. Professionalism (1-10): 9 - Uses formal language, proper structure, and maintains a respectful tone throughout without being defensive.\n",
       "\n",
       "2. Empathy (1-10): 8 - Acknowledges the issue promptly, offers a sincere apology, and validates the customer's frustration.\n",
       "\n",
       "3. Problem Resolution (1-10): 9 - Clearly explains the resolution process with specific timeline, confirms verification, and provides follow-up options.\n",
       "\n",
       "4. Clarity (1-10): 9 - Uses straightforward language, provides specific details about the refund process, and organizes information logically.\n",
       "\n",
       "5. Brand Representation (1-10): 8 - Demonstrates accountability, shows commitment to accuracy, and offers continued support.\n",
       "\n",
       "## TOTAL SCORE: 86/100\n",
       "\n",
       "This is an excellent response that addresses the customer's concern directly while maintaining professionalism. The email acknowledges the error, provides a clear timeframe for resolution, and offers a specific contact method for follow-up. Minor improvements could include personalizing the response slightly more and perhaps offering a small goodwill gesture for the inconvenience caused."
      ],
      "text/plain": [
       "<IPython.core.display.Markdown object>"
      ]
     },
     "metadata": {},
     "output_type": "display_data"
    }
   ],
   "source": [
    "display(Markdown(reasoning_response[1].text))"
   ]
  },
  {
   "cell_type": "code",
   "execution_count": null,
   "metadata": {},
   "outputs": [],
   "source": []
  }
 ],
 "metadata": {
  "kernelspec": {
   "display_name": "ai_env",
   "language": "python",
   "name": "python3"
  },
  "language_info": {
   "codemirror_mode": {
    "name": "ipython",
    "version": 3
   },
   "file_extension": ".py",
   "mimetype": "text/x-python",
   "name": "python",
   "nbconvert_exporter": "python",
   "pygments_lexer": "ipython3",
   "version": "3.13.2"
  }
 },
 "nbformat": 4,
 "nbformat_minor": 2
}
