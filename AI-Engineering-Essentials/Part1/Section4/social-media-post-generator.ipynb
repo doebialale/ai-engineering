{
 "cells": [
  {
   "cell_type": "markdown",
   "metadata": {},
   "source": [
    "### Step 1: Import Libraries and API Keys"
   ]
  },
  {
   "cell_type": "code",
   "execution_count": 1,
   "metadata": {},
   "outputs": [],
   "source": [
    "import os\n",
    "from openai import OpenAI\n",
    "from dotenv import load_dotenv\n",
    "from IPython.display import Markdown, display\n",
    "\n",
    "load_dotenv()\n",
    "\n",
    "OPENAI_API_KEY = os.getenv(\"OPENAI_API_KEY\")\n",
    "\n",
    "if OPENAI_API_KEY is None:\n",
    "    raise Exception(\"API key is missing\")"
   ]
  },
  {
   "cell_type": "markdown",
   "metadata": {},
   "source": [
    "### Step 2: Grab the latest news articles"
   ]
  },
  {
   "cell_type": "code",
   "execution_count": 7,
   "metadata": {},
   "outputs": [],
   "source": [
    "client = OpenAI()\n",
    "\n",
    "completion = client.chat.completions.create(\n",
    "    model=\"gpt-4o-mini-search-preview\",\n",
    "    messages=[\n",
    "        {\n",
    "            \"role\": \"user\",\n",
    "            \"content\": \"Bring up some of the latest news articles around the field of AI.\",\n",
    "        }\n",
    "    ],\n",
    ")\n",
    "\n",
    "news_articles = completion.choices[0].message.content"
   ]
  },
  {
   "cell_type": "code",
   "execution_count": 8,
   "metadata": {},
   "outputs": [
    {
     "data": {
      "text/markdown": [
       "Here are some of the latest developments in the field of artificial intelligence:\n",
       "\n",
       "**AI Revolutionizing Oil and Gas Industry**\n",
       "\n",
       "Artificial intelligence is transforming the oil and gas sector by enhancing drilling efficiency and reducing costs. Companies like BP, Devon Energy, and Chevron are leveraging AI for tasks such as steering drill bits, predicting potential issues, and enabling drilling in previously inaccessible areas. These advancements are expected to boost oil and gas production and improve capital allocation. ([reuters.com](https://www.reuters.com/business/energy/ceraweek-ai-leading-faster-cheaper-oil-production-executives-say-2025-03-13/?utm_source=openai))\n",
       "\n",
       "**Emergence of AI-Driven Malware Threats**\n",
       "\n",
       "Hackers are increasingly utilizing AI tools to create adaptable and destructive malware, posing significant cybersecurity risks. While traditional methods like phishing and ransomware remain prevalent, the potential for AI-driven autonomous cyberattacks is growing. This trend underscores the need for companies to develop AI-based defense mechanisms to counteract these evolving threats. ([axios.com](https://www.axios.com/2025/03/14/hackers-artificial-intelligence-cyber-threats?utm_source=openai))\n",
       "\n",
       "**Chinese Hedge Funds Embrace AI in Trading**\n",
       "\n",
       "The success of China's High-Flyer hedge fund, which developed the AI startup DeepSeek, has sparked an AI revolution within China's $10 trillion fund management industry. Other firms are adopting AI to process market data and generate trading signals, increasing demand for coding talent and high-performance computing resources. Government support in regions like Shenzhen is further accelerating these AI advancements. ([reuters.com](https://www.reuters.com/technology/artificial-intelligence/after-deepseek-chinese-fund-managers-beat-high-flyers-path-ai-2025-03-14/?utm_source=openai))\n",
       "\n",
       "**UK Government's AI Digitalization Initiative**\n",
       "\n",
       "UK Prime Minister Sir Keir Starmer has announced that digitalizing government services could save up to £45 billion annually. A report estimates that using digital technology and AI could reduce public sector spending by 4-7%. Savings would primarily come from automating administrative tasks, moving services online, and reducing fraud through digital compliance solutions. However, experts express skepticism about the feasibility and actual savings from this initiative. ([ft.com](https://www.ft.com/content/63f425a4-2b68-4cb6-bdae-e8649aa456e0?utm_source=openai))\n",
       "\n",
       "**Metro Detroit's Lag in AI Job Availability**\n",
       "\n",
       "Metro Detroit is trailing behind 20 other regions in AI job availability, with only 237 AI-related job postings in January. Local leaders emphasize the importance of AI for economic competitiveness and job creation. Efforts are underway, such as the University of Michigan's plan to launch an AI research hub, to attract professionals and address this gap. ([axios.com](https://www.axios.com/local/detroit/2025/03/14/metro-detroit-lags-on-ai-jobs?utm_source=openai))\n",
       "\n",
       "**Surge in AI-Powered Applications**\n",
       "\n",
       "AI applications, particularly those utilizing large language models from companies like OpenAI and Anthropic, are rapidly transforming the software landscape. Startups like Cursor and Mercor are achieving high valuations and significant revenue growth, driven by the integration of AI into coding assistants and other tools for white-collar work. However, these companies face challenges in integrating AI into core workflows and competing with established software giants. ([ft.com](https://www.ft.com/content/b2d084f8-1655-43fe-be9e-4b44a2fa9c4f?utm_source=openai))\n",
       "\n",
       "**Advancements in AI-Driven Drones and Robots**\n",
       "\n",
       "Chinese companies are showcasing innovative AI applications, including photo transformation tools and short movie generators. The drone and humanoid robot markets, particularly in Asia, are experiencing significant growth, with Korea's drone market predicted to expand substantially. Humanoid robots are viewed as the next big tech wave, though they face safety challenges. Investments in AI entities like Manus AI are attracting attention, highlighting the dynamic nature of the tech landscape. ([ft.com](https://www.ft.com/content/1a236286-9592-442e-abd8-b05f6482e5eb?utm_source=openai))\n",
       "\n",
       "\n",
       "## Recent Developments in AI Across Industries:\n",
       "- [AI leading to faster, cheaper oil production, executives say](https://www.reuters.com/business/energy/ceraweek-ai-leading-faster-cheaper-oil-production-executives-say-2025-03-13/?utm_source=openai)\n",
       "- [Malware's AI time bomb](https://www.axios.com/2025/03/14/hackers-artificial-intelligence-cyber-threats?utm_source=openai)\n",
       "- [After DeepSeek, Chinese fund managers beat High-Flyer's path to AI](https://www.reuters.com/technology/artificial-intelligence/after-deepseek-chinese-fund-managers-beat-high-flyers-path-ai-2025-03-14/?utm_source=openai) "
      ],
      "text/plain": [
       "<IPython.core.display.Markdown object>"
      ]
     },
     "metadata": {},
     "output_type": "display_data"
    }
   ],
   "source": [
    "display(Markdown(news_articles))"
   ]
  },
  {
   "cell_type": "markdown",
   "metadata": {},
   "source": [
    "### Step 3: Summarize and write a social media post"
   ]
  },
  {
   "cell_type": "code",
   "execution_count": 9,
   "metadata": {},
   "outputs": [
    {
     "data": {
      "text/markdown": [
       "🚀 Exciting strides in AI are reshaping various industries! 🌍\n",
       "\n",
       "🔹 The oil and gas sector is witnessing enhanced efficiency and reduced costs thanks to AI advancements. Companies like BP and Chevron are leading the way.\n",
       "\n",
       "🔹 Meanwhile, hackers are adapting AI tools for malware, highlighting urgent cybersecurity needs for AI-based defenses.\n",
       "\n",
       "🔹 In finance, China's hedge funds are embracing AI for trading, driving demand for tech talent and innovation.\n",
       "\n",
       "🔹 However, Metro Detroit faces challenges with AI job availability, while the UK government eyes significant savings through digitalization.\n",
       "\n",
       "Stay informed and ready for the AI revolution! #AI #Innovation #Cybersecurity #Finance #JobMarket"
      ],
      "text/plain": [
       "<IPython.core.display.Markdown object>"
      ]
     },
     "metadata": {},
     "output_type": "display_data"
    }
   ],
   "source": [
    "system_message = \"\"\"\n",
    "You are a helpful assistant whos job is to accurately summarize long series of \n",
    "news articles provided to you by the user and write up a compelling and easy to \n",
    "digest social media post.\n",
    "\"\"\"\n",
    "\n",
    "prompt = f\"\"\"\n",
    "The following is a series of news articles on the field of AI. Please summarize\n",
    "the articles and write a compelling social media post for LinkedIn highlighting\n",
    "key points about each article.\n",
    "\n",
    "The post should be short and concise and should not be more than 100 words.\n",
    "\n",
    "{news_articles}\n",
    "\n",
    "\"\"\"\n",
    "\n",
    "completion = client.chat.completions.create(\n",
    "    model=\"gpt-4o-mini\",\n",
    "    messages=[\n",
    "        {\"role\": \"system\", \"content\": system_message},\n",
    "        {\n",
    "            \"role\": \"user\",\n",
    "            \"content\": prompt\n",
    "        }\n",
    "    ]\n",
    ")\n",
    "\n",
    "chat_response = completion.choices[0].message.content\n",
    "display(Markdown(chat_response))"
   ]
  },
  {
   "cell_type": "markdown",
   "metadata": {},
   "source": [
    "### Step 4: Enhance structure and layout"
   ]
  },
  {
   "cell_type": "code",
   "execution_count": 10,
   "metadata": {},
   "outputs": [
    {
     "data": {
      "text/markdown": [
       "Below is the analysis and reasoning:\n",
       "\n",
       "• Style & Key Points:  \n",
       " – The original post uses an energetic tone with emojis and bullet points to highlight how AI is affecting multiple industries—oil and gas, cybersecurity, finance, and regional job markets.  \n",
       " – It names specific companies (e.g., BP, Chevron) and countries to illustrate real-world examples and challenges (e.g., hackers adapting AI for malware, regional job shortages) while ending with a call-to-action to stay informed.\n",
       "\n",
       "• Why It May or May Not Be Effective for a LinkedIn Audience (Novices in AI):  \n",
       " – Effective:  \n",
       "  ◦ The post’s concise, bullet-point format helps busy professionals quickly understand key trends.  \n",
       "  ◦ Using industry-specific examples brings relatability and context for professionals who may watch these sectors.  \n",
       " – Not As Effective:  \n",
       "  ◦ The heavy use of emojis and a casual tone might appear overly informal for LinkedIn’s professional audience.  \n",
       "  ◦ While brief, the post assumes a degree of prior knowledge about AI’s impact. For readers with little AI knowledge, more background explanation could help contextualize these updates (why AI is useful, basic benefits and risks).\n",
       "\n",
       "Based on these observations, here’s a restructured version that provides additional context in a more LinkedIn-friendly tone:\n",
       "\n",
       "———————————————\n",
       "How is AI reshaping industries—and what does it mean for you?\n",
       "\n",
       "Artificial Intelligence is no longer just a futuristic idea; it's having a real impact across sectors. Here are some important trends:\n",
       "\n",
       "• Energy: In the oil and gas industry, AI is helping companies like BP and Chevron to operate more efficiently and reduce costs. This means smarter resource management and less waste.  \n",
       "• Cybersecurity: As AI tools become more accessible, cybercriminals are also adapting them for malware attacks. This trend underlines the urgent need for robust, AI-based defenses.  \n",
       "• Finance: China’s hedge funds are leveraging AI in trading, which is sparking innovation and increasing the demand for tech professionals in financial services.  \n",
       "• Job Markets: While some regions, such as Metro Detroit, face challenges in creating AI-related job opportunities, governments like the UK are exploring digital transformation to drive savings and growth.\n",
       "\n",
       "As AI continues to evolve, staying informed about these changes can help you navigate and benefit from the ongoing AI revolution.\n",
       "\n",
       "#AI #Innovation #Cybersecurity #DigitalTransformation #JobMarket\n",
       "———————————————\n",
       "\n",
       "This version uses a professional tone with clear explanations in each bullet point, helping those new to AI understand the significance of each trend while still keeping the reader engaged."
      ],
      "text/plain": [
       "<IPython.core.display.Markdown object>"
      ]
     },
     "metadata": {},
     "output_type": "display_data"
    }
   ],
   "source": [
    "system_message = \"You are a helpful assistant.\"\n",
    "\n",
    "reasoning_prompt = f\"\"\"\n",
    "I've been given a social media post.\n",
    "\n",
    "I want you to analyze the style of writing and the key points mentioned in the post\n",
    "and provide me with a reasoning as to why this post is effective or not effective\n",
    "for a LinkedIn audience for those who may have little to no knowledge about AI.\n",
    "\n",
    "After this, restructure the post according to the suggestions you have provided.\n",
    "\n",
    "Please provide your reasoning in a few sentences.\n",
    "\n",
    "Here is the post for context:\n",
    "\n",
    "{chat_response}\n",
    "\"\"\"\n",
    "\n",
    "completion = client.chat.completions.create(\n",
    "    model=\"o3-mini\",\n",
    "    messages=[\n",
    "        {\"role\": \"system\", \"content\": system_message},\n",
    "        {\n",
    "            \"role\": \"user\",\n",
    "            \"content\": reasoning_prompt\n",
    "        }\n",
    "    ]\n",
    ")\n",
    "\n",
    "reasoning_response = completion.choices[0].message.content\n",
    "display(Markdown(reasoning_response))"
   ]
  },
  {
   "cell_type": "markdown",
   "metadata": {},
   "source": [
    "### Challenge!!\n",
    "\n",
    "Build your own social media post generator!!!\n",
    "\n",
    "**Instructions**\n",
    "1. Modify the above code to your liking and build out this project using any other frontier models instead of OpenAIs models.\n",
    "\n",
    "2. You can keep the second cell (where we are grabbing information from the web) as it is but have your chosen models summarize and create the post and analyze it using a reasoning or thinking model. (Bonus points for using another tool)\n",
    "\n",
    "3. Place your contributions in the community-contributions folder of this section.\n",
    "\n",
    "4. Copy the generated post to use for LinkedIn.\n",
    "\n",
    "5. Tag the [SuperDataScience Community Projects](https://www.linkedin.com/showcase/superdatascience-community-projects/?viewAsMember=true) page for a chance to have your post shared to the SDS LinkedIn community. "
   ]
  },
  {
   "cell_type": "code",
   "execution_count": null,
   "metadata": {},
   "outputs": [],
   "source": []
  }
 ],
 "metadata": {
  "kernelspec": {
   "display_name": "ai_env",
   "language": "python",
   "name": "python3"
  },
  "language_info": {
   "codemirror_mode": {
    "name": "ipython",
    "version": 3
   },
   "file_extension": ".py",
   "mimetype": "text/x-python",
   "name": "python",
   "nbconvert_exporter": "python",
   "pygments_lexer": "ipython3",
   "version": "3.13.2"
  }
 },
 "nbformat": 4,
 "nbformat_minor": 2
}
